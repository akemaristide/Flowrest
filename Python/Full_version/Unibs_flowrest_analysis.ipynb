{
 "cells": [
  {
   "cell_type": "code",
   "execution_count": 1,
   "metadata": {},
   "outputs": [],
   "source": [
    "import glob\n",
    "import numpy as np\n",
    "import pandas as pd\n",
    "from sklearn.ensemble import RandomForestClassifier\n",
    "from sklearn.metrics import classification_report\n",
    "import pickle\n",
    "import matplotlib as mpl\n",
    "import matplotlib.pyplot as plt\n",
    "import sklearn\n",
    "pd.options.mode.chained_assignment = None\n",
    "from IPython.display import display, HTML\n",
    "\n",
    "import warnings\n",
    "warnings.filterwarnings(\"ignore\")"
   ]
  },
  {
   "cell_type": "code",
   "execution_count": 2,
   "metadata": {},
   "outputs": [],
   "source": [
    "# Functions for model analysis\n",
    "\n",
    "# Save model function\n",
    "def save_model(RF, filename):\n",
    "    pickle.dump(RF, open(filename, 'wb'))\n",
    "\n",
    "# Feature Importance\n",
    "\"\"\"\n",
    "Function to Fit model based on optimal values of depth and number of estimators and use it\n",
    "to compute feature importance for all the features.\n",
    "\"\"\"\n",
    "def get_feature_importance(depth, n_tree, max_leaf, X_train, y_train):\n",
    "    \n",
    "    rf_opt = RandomForestClassifier(max_depth = depth, n_estimators = n_tree, max_leaf_nodes=max_leaf, random_state=42, bootstrap=False)\n",
    "    rf_opt.fit(X_train, y_train)\n",
    "    feature_importance = pd.DataFrame(rf_opt.feature_importances_)\n",
    "    feature_importance.index = X_train.columns\n",
    "    feature_importance = feature_importance.sort_values(by=list(feature_importance.columns),axis=0,ascending=False)\n",
    "    \n",
    "    return feature_importance\n",
    "\n",
    "\"\"\"\n",
    "Function to Fit model based on optimal values of depth and number of estimators and feature importance\n",
    "to find the fewest possible features to exceed the previously attained score with all selected features\n",
    "\"\"\"\n",
    "def get_fewest_features(depth, n_tree, max_leaf, importance):    \n",
    "    sorted_feature_names = importance.index\n",
    "    # print('sorted_feature_names: ', sorted_feature_names)\n",
    "    features = []\n",
    "    for f in range(1,len(sorted_feature_names)+1):\n",
    "        features.append(sorted_feature_names[0:f])\n",
    "    # print('features:', features)\n",
    "    return features\n",
    "\n",
    "## Get Scores of model with given parameters\n",
    "def get_scores(classes, depth, n_tree, feats, max_leaf, X_train, y_train, X_test, y_test):\n",
    "    model = RandomForestClassifier(max_depth=depth, n_estimators = n_tree, max_leaf_nodes=max_leaf, n_jobs=4,\n",
    "                                    random_state=42, bootstrap=False)\n",
    "    \n",
    "    model.fit(X_train[feats], y_train)\n",
    "    y_pred = model.predict(X_test[feats])\n",
    "\n",
    "    class_report = classification_report(y_test, y_pred, target_names=classes, output_dict = True)\n",
    "    macro_score = class_report['macro avg']['f1-score']\n",
    "    weighted_score = class_report['weighted avg']['f1-score']\n",
    "\n",
    "    return model, class_report, macro_score, weighted_score, y_pred\n",
    "\n",
    "# Get X and Y from Dataset\n",
    "def get_x_y_flow(Dataset, classes):    \n",
    "    X = Dataset[['Min Packet Length', 'Max Packet Length',\n",
    "       'Packet Length Total', 'Packet Count',\n",
    "       'Current Packet Length', 'Flow IAT Min', 'Flow IAT Max',\n",
    "       'Flow Duration', 'SYN Flag Count', 'ACK Flag Count',\n",
    "       'PSH Flag Count', 'FIN Flag Count',\n",
    "       'Source Port', 'Destination Port', 'Protocol']]\n",
    "    y = Dataset['Label'].replace(classes, range(len(classes)))\n",
    "    return X, y\n",
    "\n",
    "# Analyze Models to find best model\n",
    "def analyze_models(classes, model_type, depths, n_trees, X_train, y_train, X_test, y_test, max_leaf,outfile):\n",
    "    with open(outfile, \"w\") as res_file:\n",
    "        print('depth;tree;n_feat;macro;weighted;feats', file=res_file)\n",
    "        if model_type == 'RF':\n",
    "            # FOR EACH (depth, n_tree, feat)\n",
    "            for depth in depths:\n",
    "                for n_tree in n_trees:\n",
    "                    # get feature orders to use\n",
    "                    importance = get_feature_importance(depth, n_tree, max_leaf, X_train, y_train)\n",
    "                    m_feats = get_fewest_features(depth, n_tree, max_leaf, importance) \n",
    "                    for feats in m_feats:\n",
    "                        # Get the scores with the given (depth, n_tree, feat)\n",
    "                        model, c_report, macro_f1, weight_f1, y_pred = get_scores(classes, depth, n_tree, feats, max_leaf, X_train, y_train, X_test, y_test)\n",
    "                        print(str(depth)+';'+str(n_tree)+';'+str(len(feats))+';'+str(macro_f1)+';'+str(weight_f1)+';'+str(list(feats)), file=res_file)\n",
    "    print(\"Analysis Complete. Check output file.\")\n",
    "    return []"
   ]
  },
  {
   "cell_type": "code",
   "execution_count": 3,
   "metadata": {},
   "outputs": [],
   "source": [
    "classes = ['ssl', 'bittorrent', 'http', 'edonkey', 'pop3', 'skype', 'imap', 'smtp']"
   ]
  },
  {
   "cell_type": "code",
   "execution_count": 4,
   "metadata": {},
   "outputs": [],
   "source": [
    "# Load Train and Test data - this data is for the fist 3 packets of each flow\n",
    "train_data = pd.read_csv(\"unibs2009_train_3_pkt.csv\")\n",
    "test_data = pd.read_csv(\"unibs2009_test_3_pkt.csv\")\n",
    "\n",
    "# Get Variables and Labels\n",
    "X_train, y_train = get_x_y_flow(train_data, classes)\n",
    "X_test,  y_test  = get_x_y_flow(test_data, classes)"
   ]
  },
  {
   "cell_type": "code",
   "execution_count": 5,
   "metadata": {},
   "outputs": [
    {
     "name": "stdout",
     "output_type": "stream",
     "text": [
      "Analysis Complete. Check output file.\n"
     ]
    }
   ],
   "source": [
    "# Run model analysis\n",
    "all_results = analyze_models(classes, \"RF\", [5,6,7,8,9,10], [2,3,5], X_train, y_train, X_test, y_test, 500, \"Unibs_models.csv\")"
   ]
  },
  {
   "cell_type": "code",
   "execution_count": 6,
   "metadata": {},
   "outputs": [],
   "source": [
    "# Check model analysis resutls\n",
    "results_analysis = pd.read_csv(\"Unibs_models.csv\", sep=\";\")\n",
    "results_analysis = results_analysis.sort_values(by=['macro', 'weighted'], ascending=False)\n",
    "results_analysis.reset_index(drop=True, inplace=True)"
   ]
  },
  {
   "cell_type": "code",
   "execution_count": 7,
   "metadata": {},
   "outputs": [
    {
     "data": {
      "text/html": [
       "<div>\n",
       "<style scoped>\n",
       "    .dataframe tbody tr th:only-of-type {\n",
       "        vertical-align: middle;\n",
       "    }\n",
       "\n",
       "    .dataframe tbody tr th {\n",
       "        vertical-align: top;\n",
       "    }\n",
       "\n",
       "    .dataframe thead th {\n",
       "        text-align: right;\n",
       "    }\n",
       "</style>\n",
       "<table border=\"1\" class=\"dataframe\">\n",
       "  <thead>\n",
       "    <tr style=\"text-align: right;\">\n",
       "      <th></th>\n",
       "      <th>depth</th>\n",
       "      <th>tree</th>\n",
       "      <th>n_feat</th>\n",
       "      <th>macro</th>\n",
       "      <th>weighted</th>\n",
       "      <th>feats</th>\n",
       "    </tr>\n",
       "  </thead>\n",
       "  <tbody>\n",
       "    <tr>\n",
       "      <th>0</th>\n",
       "      <td>8</td>\n",
       "      <td>3</td>\n",
       "      <td>5</td>\n",
       "      <td>0.971553</td>\n",
       "      <td>0.996094</td>\n",
       "      <td>['Destination Port', 'Max Packet Length', 'Pac...</td>\n",
       "    </tr>\n",
       "    <tr>\n",
       "      <th>1</th>\n",
       "      <td>9</td>\n",
       "      <td>2</td>\n",
       "      <td>6</td>\n",
       "      <td>0.970211</td>\n",
       "      <td>0.995532</td>\n",
       "      <td>['Destination Port', 'Max Packet Length', 'Pac...</td>\n",
       "    </tr>\n",
       "    <tr>\n",
       "      <th>2</th>\n",
       "      <td>8</td>\n",
       "      <td>2</td>\n",
       "      <td>6</td>\n",
       "      <td>0.969207</td>\n",
       "      <td>0.994943</td>\n",
       "      <td>['Destination Port', 'Max Packet Length', 'Pac...</td>\n",
       "    </tr>\n",
       "    <tr>\n",
       "      <th>3</th>\n",
       "      <td>8</td>\n",
       "      <td>2</td>\n",
       "      <td>5</td>\n",
       "      <td>0.968745</td>\n",
       "      <td>0.996220</td>\n",
       "      <td>['Destination Port', 'Max Packet Length', 'Pac...</td>\n",
       "    </tr>\n",
       "    <tr>\n",
       "      <th>4</th>\n",
       "      <td>9</td>\n",
       "      <td>3</td>\n",
       "      <td>6</td>\n",
       "      <td>0.968511</td>\n",
       "      <td>0.995738</td>\n",
       "      <td>['Destination Port', 'Max Packet Length', 'Cur...</td>\n",
       "    </tr>\n",
       "    <tr>\n",
       "      <th>5</th>\n",
       "      <td>8</td>\n",
       "      <td>3</td>\n",
       "      <td>6</td>\n",
       "      <td>0.967768</td>\n",
       "      <td>0.996078</td>\n",
       "      <td>['Destination Port', 'Max Packet Length', 'Pac...</td>\n",
       "    </tr>\n",
       "    <tr>\n",
       "      <th>6</th>\n",
       "      <td>7</td>\n",
       "      <td>2</td>\n",
       "      <td>5</td>\n",
       "      <td>0.966290</td>\n",
       "      <td>0.996040</td>\n",
       "      <td>['Destination Port', 'Max Packet Length', 'Pac...</td>\n",
       "    </tr>\n",
       "    <tr>\n",
       "      <th>7</th>\n",
       "      <td>10</td>\n",
       "      <td>3</td>\n",
       "      <td>5</td>\n",
       "      <td>0.966145</td>\n",
       "      <td>0.995863</td>\n",
       "      <td>['Destination Port', 'Max Packet Length', 'Cur...</td>\n",
       "    </tr>\n",
       "    <tr>\n",
       "      <th>8</th>\n",
       "      <td>9</td>\n",
       "      <td>3</td>\n",
       "      <td>5</td>\n",
       "      <td>0.965914</td>\n",
       "      <td>0.995253</td>\n",
       "      <td>['Destination Port', 'Max Packet Length', 'Cur...</td>\n",
       "    </tr>\n",
       "    <tr>\n",
       "      <th>9</th>\n",
       "      <td>8</td>\n",
       "      <td>5</td>\n",
       "      <td>5</td>\n",
       "      <td>0.965042</td>\n",
       "      <td>0.996078</td>\n",
       "      <td>['Destination Port', 'Current Packet Length', ...</td>\n",
       "    </tr>\n",
       "  </tbody>\n",
       "</table>\n",
       "</div>"
      ],
      "text/plain": [
       "   depth  tree  n_feat     macro  weighted  \\\n",
       "0      8     3       5  0.971553  0.996094   \n",
       "1      9     2       6  0.970211  0.995532   \n",
       "2      8     2       6  0.969207  0.994943   \n",
       "3      8     2       5  0.968745  0.996220   \n",
       "4      9     3       6  0.968511  0.995738   \n",
       "5      8     3       6  0.967768  0.996078   \n",
       "6      7     2       5  0.966290  0.996040   \n",
       "7     10     3       5  0.966145  0.995863   \n",
       "8      9     3       5  0.965914  0.995253   \n",
       "9      8     5       5  0.965042  0.996078   \n",
       "\n",
       "                                               feats  \n",
       "0  ['Destination Port', 'Max Packet Length', 'Pac...  \n",
       "1  ['Destination Port', 'Max Packet Length', 'Pac...  \n",
       "2  ['Destination Port', 'Max Packet Length', 'Pac...  \n",
       "3  ['Destination Port', 'Max Packet Length', 'Pac...  \n",
       "4  ['Destination Port', 'Max Packet Length', 'Cur...  \n",
       "5  ['Destination Port', 'Max Packet Length', 'Pac...  \n",
       "6  ['Destination Port', 'Max Packet Length', 'Pac...  \n",
       "7  ['Destination Port', 'Max Packet Length', 'Cur...  \n",
       "8  ['Destination Port', 'Max Packet Length', 'Cur...  \n",
       "9  ['Destination Port', 'Current Packet Length', ...  "
      ]
     },
     "execution_count": 7,
     "metadata": {},
     "output_type": "execute_result"
    }
   ],
   "source": [
    "results_analysis[0:10]"
   ]
  },
  {
   "cell_type": "code",
   "execution_count": 8,
   "metadata": {},
   "outputs": [
    {
     "data": {
      "text/plain": [
       "\"['Destination Port', 'Max Packet Length', 'Packet Length Total', 'Current Packet Length', 'ACK Flag Count']\""
      ]
     },
     "execution_count": 8,
     "metadata": {},
     "output_type": "execute_result"
    }
   ],
   "source": [
    "# Get features of the best model\n",
    "results_analysis['feats'][0]"
   ]
  },
  {
   "cell_type": "code",
   "execution_count": 9,
   "metadata": {},
   "outputs": [],
   "source": [
    "select_feats = ['Destination Port', 'Max Packet Length', 'Packet Length Total', 'Current Packet Length', 'ACK Flag Count']"
   ]
  },
  {
   "cell_type": "code",
   "execution_count": 11,
   "metadata": {},
   "outputs": [],
   "source": [
    "# Retrain the best model and get its scores\n",
    "model, class_report, macro_score, weighted_score, y_pred =  get_scores(classes, 8, 3, select_feats, 500, X_train, y_train, X_test, y_test)"
   ]
  },
  {
   "cell_type": "code",
   "execution_count": 12,
   "metadata": {},
   "outputs": [
    {
     "data": {
      "text/plain": [
       "RandomForestClassifier(bootstrap=False, max_depth=8, max_leaf_nodes=500,\n",
       "                       n_estimators=3, n_jobs=4, random_state=42)"
      ]
     },
     "execution_count": 12,
     "metadata": {},
     "output_type": "execute_result"
    }
   ],
   "source": [
    "model"
   ]
  },
  {
   "cell_type": "code",
   "execution_count": 13,
   "metadata": {},
   "outputs": [],
   "source": [
    "# Save the best model for future use\n",
    "save_model(model, \"model_unibs_8_3_5.sav\")"
   ]
  }
 ],
 "metadata": {
  "kernelspec": {
   "display_name": "Python 3.8.10 ('.venv': venv)",
   "language": "python",
   "name": "python3"
  },
  "language_info": {
   "codemirror_mode": {
    "name": "ipython",
    "version": 3
   },
   "file_extension": ".py",
   "mimetype": "text/x-python",
   "name": "python",
   "nbconvert_exporter": "python",
   "pygments_lexer": "ipython3",
   "version": "3.8.5"
  },
  "vscode": {
   "interpreter": {
    "hash": "9e68fe85254c6210bcf040730bd456dfdb5eb0f08910e7990da88ee970864b18"
   }
  }
 },
 "nbformat": 4,
 "nbformat_minor": 4
}
