{
 "cells": [
  {
   "cell_type": "code",
   "execution_count": null,
   "metadata": {},
   "outputs": [],
   "source": [
    "import numpy as np\n",
    "import pandas as pd\n",
    "from sklearn.ensemble import RandomForestClassifier\n",
    "from sklearn.metrics import f1_score\n",
    "from sklearn.metrics import classification_report, precision_recall_fscore_support\n",
    "from sklearn.tree import export_graphviz, DecisionTreeClassifier\n",
    "from sklearn import tree\n",
    "from scipy import stats\n",
    "import seaborn as sns\n",
    "import os\n",
    "import pickle\n",
    "import re\n",
    "import sys\n",
    "import tempfile\n",
    "import matplotlib as mpl\n",
    "import matplotlib.pyplot as plt\n",
    "import sklearn\n",
    "import warnings\n",
    "warnings.filterwarnings('ignore')\n",
    "\n",
    "pd.options.mode.chained_assignment = None\n",
    "from IPython.display import display, HTML"
   ]
  },
  {
   "cell_type": "code",
   "execution_count": null,
   "metadata": {},
   "outputs": [],
   "source": [
    "# IoT device list for labeling\n",
    "IoT_Device_List = pd.read_csv(\"iot_device_list.csv\")\n",
    "\n",
    "# List of 16 classes under consideration\n",
    "classes = [\"Withings Smart Baby Monitor\",\"Withings Aura smart sleep sensor\",\"Dropcam\",\n",
    "           \"TP-Link Day Night Cloud camera\",\"Samsung SmartCam\",\"Netatmo weather station\",\"Netatmo Welcome\",\n",
    "          \"Amazon Echo\", \"Laptop\",\"NEST Protect smoke alarm\",\"Insteon Camera\",\"Belkin Wemo switch\",\n",
    "           \"Belkin wemo motion sensor\", \"Light Bulbs LiFX Smart Bulb\", \"Triby Speaker\", \"Smart Things\"]\n",
    "           \n",
    "classes_df = pd.DataFrame(classes, columns=['class'])\n",
    "IoT_Device_List_16 = IoT_Device_List[IoT_Device_List[\"List of Devices\"].isin(classes)]\n",
    "IoT_Device_List_16 = IoT_Device_List_16.reset_index(drop=True)"
   ]
  },
  {
   "cell_type": "markdown",
   "metadata": {},
   "source": [
    "## Helper Functions"
   ]
  },
  {
   "cell_type": "code",
   "execution_count": null,
   "metadata": {},
   "outputs": [],
   "source": [
    "\"\"\" Run grid search on RF hyperparameters - maximum tree depth and number of estimators \"\"\"\n",
    "def RF_evaluation(X_train, y_train, X_test, y_test, threshold, mode, depth_range, tree_range, labels, target_names):\n",
    "    scores_iot = []\n",
    "    for max_depth in depth_range:\n",
    "        for num_trees in tree_range:\n",
    "            RF = RandomForestClassifier(max_depth = max_depth, n_estimators = num_trees, random_state=42, bootstrap=False)\n",
    "            RF = RF.fit(X_train, y_train)\n",
    "            y_pred_rf = RF.predict(X_test)\n",
    "            F1score = 100*f1_score(y_test, y_pred_rf, average=mode)            \n",
    "            class_report = classification_report(y_test, y_pred_rf, labels = labels, target_names=target_names, output_dict = True)\n",
    "            if F1score > 70:\n",
    "                print('\\n ##')\n",
    "                print(\"F1-score:\", F1score)\n",
    "    return class_report, RF\n",
    "\n",
    "\"\"\"\n",
    "Function to Fit model based on optimal values of depth and number of estimators and use it\n",
    "to compute feature importance for all the features according to MDI\n",
    "\"\"\"\n",
    "def get_feature_importance(evaluation, X_train, y_train):\n",
    "    rf_opt = RandomForestClassifier(max_depth = evaluation[1], n_estimators = evaluation[2], random_state=42)\n",
    "    rf_opt.fit(X_train, y_train)\n",
    "    Feature_importance = pd.DataFrame(rf_opt.feature_importances_)\n",
    "    Feature_importance.index = X_train.columns\n",
    "    Feature_importance = Feature_importance.sort_values(by=list(Feature_importance.columns),axis=0,ascending=False)\n",
    "    return Feature_importance\n",
    "\n",
    "\"\"\"\n",
    "Function to Fit model based on optimal values of depth and number of estimators and feature importance\n",
    "to find the fewest possible features to exceed the previously attained score with all selected features\n",
    "\"\"\"\n",
    "def get_fewest_features(evaluation, importance, X_train, y_train, X_test, y_test, f1_threshold, mode):    \n",
    "    sorted_feature_names = importance.index\n",
    "    fewest_tuple = []\n",
    "    for f in range(1,len(sorted_feature_names)+1):\n",
    "        rf_try = RandomForestClassifier(max_depth=evaluation[1], n_estimators = evaluation[2], \n",
    "                                        random_state=42)\n",
    "        rf_try.fit(X_train[sorted_feature_names[0:f]], y_train)\n",
    "        y_pred = rf_try.predict(X_test[sorted_feature_names[0:f]])\n",
    "        score = f1_score(y_test, y_pred, average=mode)\n",
    "        tuple_feat = [f, score,sorted_feature_names[0:f]]\n",
    "        print(tuple_feat)\n",
    "        if(score >= f1_threshold):\n",
    "            return tuple_feat\n",
    "        else:\n",
    "            continue\n",
    "\n",
    "\"\"\" Label Flows based on MAC address information in the IoT device list file \"\"\"\n",
    "def label_flows(IoT_Train, IoT_Device_List):\n",
    "    IoT_Train['Label_New'] = len(IoT_Train)*[0]\n",
    "    for i in range(len(IoT_Device_List)):\n",
    "        IoT_Train['Label_New'] = np.where((IoT_Train['Src MAC']==IoT_Device_List[\"MAC ADDRESS\"][i]), \n",
    "                                          IoT_Device_List[\"List of Devices\"][i], IoT_Train['Label_New'])\n",
    "\n",
    "    for i in range(len(IoT_Device_List)):\n",
    "        IoT_Train['Label_New'] = np.where((IoT_Train['Dst MAC']==IoT_Device_List[\"MAC ADDRESS\"][i]) & \n",
    "                                       (IoT_Train['Src MAC']==\"14:cc:20:51:33:ea\"), \n",
    "                                      IoT_Device_List[\"List of Devices\"][i], IoT_Train['Label_New'])\n",
    "\n",
    "    IoT_Train = IoT_Train[IoT_Train['Label_New']!=\"TPLink Router Bridge LAN (Gateway)\"]\n",
    "    IoT_Train = IoT_Train[IoT_Train['Label_New']!=\"0\"]\n",
    "    IoT_Train = IoT_Train[IoT_Train['Label_New']!=\"Nest Dropcam\"]\n",
    "    IoT_Train = IoT_Train[IoT_Train['Label_New']!=\"MacBook/Iphone\"]\n",
    "\n",
    "    return IoT_Train"
   ]
  },
  {
   "cell_type": "code",
   "execution_count": null,
   "metadata": {},
   "outputs": [],
   "source": [
    "\"\"\" Get combinations of models for different number of trees, maximum tree depth and number of features\"\"\"\n",
    "def analyze_models_features(depths, n_trees, X_train, y_train, X_test, y_test, max_feats):\n",
    "    for depth in depths:\n",
    "        for n_tree in n_trees:\n",
    "            print(\"Depth, Tree:\", depth, n_tree)\n",
    "            importance = get_feature_importance([None, depth, n_tree], X_train, y_train)\n",
    "            print(importance)\n",
    "            get_fewest_features([None, depth, n_tree], importance[0:max_feats], X_train, y_train, X_test, y_test, 99, 'macro')\n",
    "\n",
    "\"\"\" Get names and indices of classes present in the test data \"\"\"\n",
    "def get_test_labels(IoT_Test):\n",
    "    array_of_indices = []\n",
    "    unique_labels = IoT_Test[\"Label_New\"].unique()\n",
    "    for lab in unique_labels:\n",
    "        index = classes_df[classes_df['class'] == lab].index.values[0]\n",
    "        array_of_indices.append(index)\n",
    "    return unique_labels, array_of_indices\n",
    "\n",
    "\"\"\" Obtains final trained model and performance statistics based on selected value of max_leaf_nodes\"\"\"\n",
    "def prune_model(X_train, y_train, X_test, y_test, depth, trees, max_leaves, indices, labels):\n",
    "    MaxTen = 0 # MaxTen is max number of bits supported for a ternary match key in hardware. Actual value is confidential \n",
    "    model = RandomForestClassifier(max_depth = depth, n_estimators = trees, max_leaf_nodes=max_leaves, random_state=42, bootstrap=False)\n",
    "    model = model.fit(X_train, y_train)\n",
    "    y_pred_rf = model.predict(X_test)\n",
    "    F1score = 100*f1_score(y_test, y_pred_rf, average='macro')\n",
    "    c_report = classification_report(y_test, y_pred_rf, labels = indices, target_names=labels, output_dict = True)\n",
    "    macro_f1 = 100*c_report['macro avg']['f1-score']\n",
    "    \n",
    "    if macro_f1 > 80:    \n",
    "        print(\"####\")\n",
    "        print(\"Macro F1-score:\", F1score)\n",
    "        print('Macro F1-score (from c. rep.): ', macro_f1)\n",
    "        \n",
    "        for num in range(len(model.estimators_)):\n",
    "            nbitsp4 = model.estimators_[num].tree_.node_count - model.estimators_[num].tree_.n_leaves\n",
    "            print(\"Number of bits in P4: \", nbitsp4)\n",
    "            if nbitsp4 > MaxTen:\n",
    "                print(\"############### ERRROR ###############\")\n",
    "                \n",
    "    return model, c_report"
   ]
  },
  {
   "cell_type": "code",
   "execution_count": null,
   "metadata": {},
   "outputs": [],
   "source": [
    "\"\"\" Function to fit the final models which we will translate to P4 \"\"\"\n",
    "def fit_final_model(few, evaluation, X_train, y_train):    \n",
    "    rf_final = RandomForestClassifier(max_depth= evaluation[1], \\\n",
    "        n_estimators = evaluation[2], random_state=42, bootstrap = False)\n",
    "    rf_final.fit(X_train[few], y_train)\n",
    "    return rf_final\n",
    "\n",
    "\"\"\" Save trained model for onward processing \"\"\"\n",
    "def save_model(RF, filename):\n",
    "    pickle.dump(RF, open(filename, 'wb'))"
   ]
  },
  {
   "cell_type": "code",
   "execution_count": 19,
   "metadata": {},
   "outputs": [],
   "source": [
    "\"\"\" Extract features from test data\"\"\"\n",
    "def prepare_test(packet_data, IoT_Device_List):\n",
    "\n",
    "    packet_data.columns = [\"frame.time_relative\",\"ip.src\",\"ip.dst\",\"tcp.srcport\",\"tcp.dstport\",\"ip.len\",\n",
    "                       \"tcp.flags.syn\",\"tcp.flags.ack\",\"tcp.flags.push\",\"tcp.flags.fin\",\n",
    "                       \"tcp.flags.reset\",\"tcp.flags.ece\",\"ip.proto\",\"udp.srcport\",\"udp.dstport\",\n",
    "                       \"eth.src\",\"eth.dst\"]\n",
    "    packet_data = packet_data[(packet_data[\"ip.proto\"] != \"1,17\") & (packet_data[\"ip.proto\"] != \"1,6\")].reset_index(drop=True)\n",
    "    packet_data = packet_data.dropna(subset=['ip.proto'])\n",
    "    packet_data[\"ip.src\"] = packet_data[\"ip.src\"].astype(str)\n",
    "    packet_data[\"ip.dst\"] = packet_data[\"ip.dst\"].astype(str)\n",
    "    packet_data[\"ip.proto\"] = packet_data[\"ip.proto\"].astype('int')\n",
    "    packet_data[\"ip.len\"] = packet_data[\"ip.len\"].astype(\"int\")\n",
    "    packet_data[\"tcp.srcport\"] = packet_data[\"tcp.srcport\"].astype('Int64').fillna(0)\n",
    "    packet_data[\"tcp.dstport\"] = packet_data[\"tcp.dstport\"].astype('Int64').fillna(0)\n",
    "    packet_data[\"udp.srcport\"] = packet_data[\"udp.srcport\"].astype('Int64').fillna(0)\n",
    "    packet_data[\"udp.dstport\"] = packet_data[\"udp.dstport\"].astype('Int64').fillna(0)\n",
    "    packet_data[\"tcp.flags.syn\"] = packet_data[\"tcp.flags.syn\"].astype('Int64').fillna(0)\n",
    "    packet_data[\"tcp.flags.ack\"] = packet_data[\"tcp.flags.ack\"].astype('Int64').fillna(0)\n",
    "    packet_data[\"tcp.flags.push\"] = packet_data[\"tcp.flags.push\"].astype('Int64').fillna(0)\n",
    "    packet_data[\"tcp.flags.fin\"] = packet_data[\"tcp.flags.fin\"].astype('Int64').fillna(0)\n",
    "    packet_data[\"tcp.flags.reset\"] = packet_data[\"tcp.flags.reset\"].astype('Int64').fillna(0)\n",
    "    packet_data[\"tcp.flags.ece\"] = packet_data[\"tcp.flags.ece\"].astype('Int64').fillna(0)\n",
    "    packet_data[\"srcport\"] = np.where(packet_data[\"ip.proto\"] == 6, packet_data[\"tcp.srcport\"], packet_data[\"udp.srcport\"])\n",
    "    packet_data[\"dstport\"] = np.where(packet_data[\"ip.proto\"] == 6, packet_data[\"tcp.dstport\"], packet_data[\"udp.dstport\"])\n",
    "    packet_data[\"srcport\"] = packet_data[\"srcport\"].astype('Int64')\n",
    "    packet_data[\"dstport\"] = packet_data[\"dstport\"].astype('Int64')\n",
    "    packet_data = packet_data.drop([\"tcp.srcport\",\"tcp.dstport\",\"udp.srcport\",\"udp.dstport\"],axis=1)\n",
    "    packet_data[\"label\"] = [0] * len(packet_data)\n",
    "    for i in range(len(IoT_Device_List)):\n",
    "        packet_data[\"label\"] = np.where((packet_data[\"eth.src\"]==IoT_Device_List[\"MAC ADDRESS\"][i]), \n",
    "                                          IoT_Device_List[\"List of Devices\"][i], packet_data[\"label\"])\n",
    "    for i in range(len(IoT_Device_List)):\n",
    "        packet_data[\"label\"] = np.where((packet_data[\"eth.dst\"] ==IoT_Device_List[\"MAC ADDRESS\"][i]) & \n",
    "                                       (packet_data[\"eth.src\"]==\"14:cc:20:51:33:ea\"), \n",
    "                                      IoT_Device_List[\"List of Devices\"][i], packet_data[\"label\"])\n",
    "    packet_data = packet_data[packet_data['label']!=\"TPLink Router Bridge LAN (Gateway)\"]\n",
    "    packet_data = packet_data[packet_data['label']!=\"0\"]\n",
    "    packet_data = packet_data[packet_data['label']!=\"Nest Dropcam\"]\n",
    "    packet_data = packet_data[packet_data['label']!=\"MacBook/Iphone\"]\n",
    "    \n",
    "    return packet_data"
   ]
  },
  {
   "cell_type": "code",
   "execution_count": null,
   "metadata": {},
   "outputs": [],
   "source": [
    "\"\"\" Extract features from test data\"\"\"\n",
    "def get_xtest_ytest(Test):\n",
    "    X_test = Test[['ip.len', 'tcp.flags.syn', 'tcp.flags.ack', 'tcp.flags.push',\n",
    "                   'tcp.flags.fin', 'tcp.flags.reset', 'tcp.flags.ece', 'ip.proto','srcport', 'dstport']]\n",
    "    y_test = Test['Label_New'].replace(classes, range(len(classes)))\n",
    "    return X_test, y_test\n",
    "\n",
    "\"\"\" Extract features from train data\"\"\"\n",
    "def get_xtrain_ytrain(Test):\n",
    "    X_train = Test[['ip.len', 'tcp.flags.syn', 'tcp.flags.ack', 'tcp.flags.push',\n",
    "                   'tcp.flags.fin', 'tcp.flags.reset', 'tcp.flags.ece', 'ip.proto','srcport', 'dstport']]\n",
    "    y_train = Test['Label_New'].replace(classes, range(len(classes)))\n",
    "    return X_train, y_train"
   ]
  },
  {
   "cell_type": "markdown",
   "metadata": {},
   "source": [
    "## Feature Selection, Model Training and Evaluation"
   ]
  },
  {
   "cell_type": "markdown",
   "metadata": {},
   "source": [
    "### Load and process training data"
   ]
  },
  {
   "cell_type": "code",
   "execution_count": null,
   "metadata": {},
   "outputs": [],
   "source": [
    "# Load train data csv\n",
    "IoT_Train = pd.read_csv(\"unsw_packet_data_train.csv\")\n",
    "IoT_Train = IoT_Train.dropna(axis=0)\n",
    "\n",
    "# Label the packets\n",
    "IoT_Train = label_flows(IoT_Train, IoT_Device_List_16)\n",
    "\n",
    "# Get X_train and y_train\n",
    "X_train, y_train = get_xtrain_ytrain(IoT_Train)"
   ]
  },
  {
   "cell_type": "markdown",
   "metadata": {},
   "source": [
    "### Load and process testing data"
   ]
  },
  {
   "cell_type": "code",
   "execution_count": 103,
   "metadata": {},
   "outputs": [],
   "source": [
    "# Load test data csv\n",
    "IoT_Test_csv = pd.read_csv(\"/unsw_packet_data_test.txt\")"
   ]
  },
  {
   "cell_type": "code",
   "execution_count": 104,
   "metadata": {},
   "outputs": [],
   "source": [
    "# Label the packets\n",
    "IoT_Test = label_flows(IoT_Test_csv, IoT_Device_List_16)\n",
    "IoT_Test = IoT_Test.dropna(axis=0)\n",
    "\n",
    "# Get X_test and y_test\n",
    "X_test, y_test = get_xtest_ytest(IoT_Test)\n",
    "\n",
    "# Check classes present in the test data and their indices\n",
    "test_labels, test_indices = get_test_labels(IoT_Test)"
   ]
  },
  {
   "cell_type": "markdown",
   "metadata": {},
   "source": [
    "### Run model analysis to get optimal model"
   ]
  },
  {
   "cell_type": "code",
   "execution_count": null,
   "metadata": {
    "scrolled": true
   },
   "outputs": [],
   "source": [
    "# analyze_models_features(set_of_max_tree_depths, set_of_number_of_trees, X_train, y_train, X_test[X_train.columns], y_test, max_num_of_features)\n",
    "analyze_models_features([5,6,7,8,9,10,11,12,13], [3, 4, 5,6,7,8,9,10], X_train, y_train, X_test, y_test, 10)"
   ]
  },
  {
   "cell_type": "code",
   "execution_count": 108,
   "metadata": {},
   "outputs": [],
   "source": [
    "# Best model is (depth = 11, n_trees = 3) with 6 features, macro F1 score = 73.47 %\n",
    "selected_features = ['srcport', 'ip.len', 'dstport', 'ip.proto', 'tcp.flags.push','tcp.flags.ack']"
   ]
  },
  {
   "cell_type": "code",
   "execution_count": 109,
   "metadata": {},
   "outputs": [],
   "source": [
    "# Fit model with selected model parameters\n",
    "final_model = fit_final_model(selected_features, [None, 11, 3], X_train, y_train) "
   ]
  },
  {
   "cell_type": "code",
   "execution_count": 110,
   "metadata": {},
   "outputs": [
    {
     "name": "stdout",
     "output_type": "stream",
     "text": [
      "Number of bits in P4:  926\n",
      "Number of bits in P4:  754\n",
      "Number of bits in P4:  779\n"
     ]
    }
   ],
   "source": [
    "# Check number of bits required to encode paths to leaves in P4\n",
    "for num in range(len(final_model.estimators_)):\n",
    "    nbitsp4 = final_model.estimators_[num].tree_.node_count - final_model.estimators_[num].tree_.n_leaves\n",
    "    print(\"Number of bits in P4: \", nbitsp4)"
   ]
  },
  {
   "cell_type": "code",
   "execution_count": null,
   "metadata": {
    "scrolled": false
   },
   "outputs": [],
   "source": [
    "# Find minimum value of max_leaf_nodes that will preserve accuracy reasonably\n",
    "for leaf in range(400, 510, 10):\n",
    "    print(\"leaves:\", leaf)\n",
    "    prune_model(X_train[selected_features], y_train, X_test[selected_features], \n",
    "                y_test, 11, 3, leaf, test_indices, test_labels)"
   ]
  },
  {
   "cell_type": "code",
   "execution_count": 111,
   "metadata": {},
   "outputs": [
    {
     "name": "stdout",
     "output_type": "stream",
     "text": [
      "####\n",
      "Accuracy: 88.98372781065089\n",
      "Macro F1-score: 74.2461953520498\n",
      "Macro F1-score (from c. rep.):  74.2461953520498\n",
      "Number of bits in P4:  449\n",
      "Number of bits in P4:  449\n",
      "Number of bits in P4:  449\n"
     ]
    }
   ],
   "source": [
    "# Optimal max_leaf_nodes chosen = 450 leaves\n",
    "# Get final model and classification report\n",
    "final_10_3_model_packet, cl_report_packet = prune_model(X_train[selected_features], y_train, \n",
    "                                                                    X_test[selected_features], \n",
    "                                                                    y_test, 11, 3, 450, \n",
    "                                                                    test_indices, test_labels)"
   ]
  },
  {
   "cell_type": "code",
   "execution_count": 93,
   "metadata": {},
   "outputs": [],
   "source": [
    "# Save model for onward conversion into M/A table entries\n",
    "save_model(final_10_3_model_packet, \"unsw_per_packet_saved_model_16_classes.sav\")"
   ]
  }
 ],
 "metadata": {
  "kernelspec": {
   "display_name": "Python 3.8.10 64-bit",
   "language": "python",
   "name": "python3"
  },
  "language_info": {
   "codemirror_mode": {
    "name": "ipython",
    "version": 3
   },
   "file_extension": ".py",
   "mimetype": "text/x-python",
   "name": "python",
   "nbconvert_exporter": "python",
   "pygments_lexer": "ipython3",
   "version": "3.8.10"
  },
  "vscode": {
   "interpreter": {
    "hash": "916dbcbb3f70747c44a77c7bcd40155683ae19c65e1c03b4aa3499c5328201f1"
   }
  }
 },
 "nbformat": 4,
 "nbformat_minor": 4
}
